{
 "cells": [
  {
   "cell_type": "code",
   "execution_count": null,
   "id": "a36dbce0-47fb-4228-876b-e1698b3163ee",
   "metadata": {},
   "outputs": [],
   "source": [
    "Q1:-  Which keyword is used to create a function? Create a function to return a list of odd numbers in the \n",
    "range of 1 to 25."
   ]
  },
  {
   "cell_type": "code",
   "execution_count": null,
   "id": "d81ab027-fce5-4dfa-99b9-53640cfd78c6",
   "metadata": {},
   "outputs": [],
   "source": [
    "The keyword used to create a function in Python is def. \n",
    "Here's an example function that returns a list of odd numbers in the range of 1 to 25:\n",
    "\n",
    "def odd_numbers():\n",
    "    odd_num_list = [num for num in range(1, 26) if num % 2 != 0]\n",
    "    return odd_num_list\n",
    "\n",
    "print(odd_numbers())\n",
    "\n",
    "This function uses a list comprehension to iterate through the range of 1 to 25,\n",
    "and it only adds the numbers that are not divisible by 2 (i.e., odd numbers) to the odd_num_list. The function returns this list, which can then be printed."
   ]
  },
  {
   "cell_type": "code",
   "execution_count": null,
   "id": "81404554-ae74-480b-ae0c-08737724162d",
   "metadata": {},
   "outputs": [],
   "source": [
    "Q2:- Why *args and **kwargs is used in some functions? Create a function each for *args and **kwargs \n",
    "to demonstrate their use"
   ]
  },
  {
   "cell_type": "code",
   "execution_count": null,
   "id": "a1de2325-f0ed-47bf-a3d2-949a50e5c2d3",
   "metadata": {},
   "outputs": [],
   "source": [
    "*args and **kwargs are used in function definitions to allow the function to accept a variable number of arguments.\n",
    "\n",
    "*args is used to pass a non-keyworded, variable-length argument list to a function.\n",
    "It's essentially a way to pass a list of arguments to a function. The syntax for using *args is to place an asterisk (*) in front of the parameter name in the function definition, like this:\n",
    "def function_name(*args):\n",
    "    for arg in args:\n",
    "        print(arg)\n",
    "\n",
    "For example:\n",
    "    def sum_all(*args):\n",
    "    result = 0\n",
    "    for num in args:\n",
    "        result += num\n",
    "    return result\n",
    "\n",
    "print(sum_all(1,2,3,4,5,6,7,8,9,10))\n",
    "\n",
    "**kwargs is used to pass keyworded, variable-length argument list to a function. It allows you to pass keyworded arguments to a function.\n",
    "The syntax for using **kwargs is to place two asterisks (**) in front of the parameter name in the function definition, like this:\n",
    "def function_name(**kwargs):\n",
    "    for key, value in kwargs.items():\n",
    "        print(f\"{key}: {value}\")\n",
    "for example:- \n",
    "\n",
    "def print_kwargs(**kwargs):\n",
    "    for key, value in kwargs.items():\n",
    "        print(f\"{key}: {value}\")\n",
    "\n",
    "print_kwargs(first_name=\"John\", last_name=\"Doe\", age=30)\n"
   ]
  },
  {
   "cell_type": "code",
   "execution_count": null,
   "id": "8433fc93-2553-4a58-be49-d7c29e5d8db8",
   "metadata": {},
   "outputs": [],
   "source": [
    "Q3:- What is an iterator in python? Name the method used to initialise the iterator object and the method \n",
    "used for iteration. Use these methods to print the first five elements of the given list [2, 4, 6, 8, 10, 12, 14, \n",
    "16, 18, 20]."
   ]
  },
  {
   "cell_type": "code",
   "execution_count": null,
   "id": "dc2fc84d-c52d-4369-ba9e-49af6850f59a",
   "metadata": {},
   "outputs": [],
   "source": [
    "An iterator in Python is an object that can be iterated upon. It implements two methods, __iter__ and __next__, \n",
    "which enable iteration over a collection of items. The __iter__ method returns the iterator object and the __next__ method returns the next item\n",
    "in the sequence. When there are no more items to return, the __next__ method raises the StopIteration exception.\n",
    "\n",
    "The built-in iter() function can be used to initialize an iterator object from an iterable object such as a list. \n",
    "The next() function can then be used to retrieve the next item in the sequence.\n",
    "\n",
    "Here's an example of using these methods to print the first five elements of a list:\n",
    "\n",
    "my_list = [2, 4, 6, 8, 10, 12, 14, 16, 18, 20]\n",
    "my_iter = iter(my_list)\n",
    "\n",
    "for i in range(5):\n",
    "    print(next(my_iter))\n"
   ]
  },
  {
   "cell_type": "code",
   "execution_count": null,
   "id": "94f2b82d-8bdf-466f-b934-9ab6f0c81341",
   "metadata": {},
   "outputs": [],
   "source": [
    "Q4:-   What is a generator function in python? Why yield keyword is used? Give an example of a generator \n",
    "function."
   ]
  },
  {
   "cell_type": "code",
   "execution_count": null,
   "id": "8a30d036-f192-4073-881f-979494953e67",
   "metadata": {},
   "outputs": [],
   "source": [
    "A generator function in Python is a special type of function that returns a generator object.\n",
    "Unlike regular functions, generator functions are designed to be used in an iterative fashion, allowing you to iterate over a series of values, one value at a time. \n",
    "The yield keyword is used to return a value from the generator function, and the generator object created by the function can be used to iterate\n",
    "over the series of values produced by the function.\n",
    "\n",
    "Here's an example of a generator function:\n",
    "\n",
    "def fibonacci_series(limit):\n",
    "    a, b = 0, 1\n",
    "    while a < limit:\n",
    "        yield a\n",
    "        a, b = b, a + b\n",
    "\n",
    "fib_gen = fibonacci_series(100)\n",
    "for i in fib_gen:\n",
    "    print(i)\n",
    "\n",
    "    In this example, the generator function fibonacci_series generates the fibonacci series up to a given limit (100 in this case).\n",
    "    The yield statement is used to return each number in the series as the generator is iterated over. The generator object fib_gen is then\n",
    "created and used in a for loop to print the fibonacci series."
   ]
  },
  {
   "cell_type": "code",
   "execution_count": null,
   "id": "50c46e70-3cb0-45fa-a59b-c152dcb1d77b",
   "metadata": {},
   "outputs": [],
   "source": [
    "Q5:-  Create a generator function for prime numbers less than 1000. Use the next() method to print the \n",
    "first 20 prime numbers."
   ]
  },
  {
   "cell_type": "code",
   "execution_count": null,
   "id": "29b67619-425c-4f03-935e-b9be8b35b86f",
   "metadata": {},
   "outputs": [],
   "source": [
    "def prime_numbers(limit):\n",
    "    num = 2\n",
    "    while num < limit:\n",
    "        for i in range(2, num):\n",
    "            if (num % i) == 0:\n",
    "                break\n",
    "        else:\n",
    "            yield num\n",
    "        num += 1\n",
    "\n",
    "prime_gen = prime_numbers(1000)\n",
    "count = 0\n",
    "while count < 20:\n",
    "    print(next(prime_gen))\n",
    "    count += 1\n"
   ]
  },
  {
   "cell_type": "code",
   "execution_count": null,
   "id": "64523d79-1e15-45e3-a080-51d20e29e7af",
   "metadata": {},
   "outputs": [],
   "source": [
    "Q6:- Write a python program to print the first 10 Fibonacci numbers using a while loop"
   ]
  },
  {
   "cell_type": "code",
   "execution_count": 10,
   "id": "4de6d777-8033-4d9d-b567-00afb296d896",
   "metadata": {},
   "outputs": [
    {
     "name": "stdout",
     "output_type": "stream",
     "text": [
      "0\n",
      "1\n",
      "1\n",
      "2\n",
      "3\n",
      "5\n",
      "8\n",
      "13\n",
      "21\n",
      "34\n"
     ]
    }
   ],
   "source": [
    "def fibonacci_sequence(n):\n",
    "    a = 0\n",
    "    b = 1\n",
    "    count = 0\n",
    "    while count < n:\n",
    "        print(a)\n",
    "        c = a + b\n",
    "        a = b\n",
    "        b = c\n",
    "        count += 1\n",
    "\n",
    "fibonacci_sequence(10)\n"
   ]
  },
  {
   "cell_type": "code",
   "execution_count": null,
   "id": "d23bf61c-8668-4826-8393-e7ecff2ad351",
   "metadata": {},
   "outputs": [],
   "source": [
    "Q7:- Write a List Comprehension to iterate through the given string: ‘pwskills’.\n",
    "Expected output: ['p', 'w', 's', 'k', 'i', 'l', 'l', 's'] "
   ]
  },
  {
   "cell_type": "code",
   "execution_count": 9,
   "id": "ed5b9344-2a48-4cf4-b301-83feec72eaaf",
   "metadata": {},
   "outputs": [
    {
     "name": "stdout",
     "output_type": "stream",
     "text": [
      "['p', 'w', 's', 'k', 'i', 'l', 'l', 's']\n"
     ]
    }
   ],
   "source": [
    "string = 'pwskills'\n",
    "result = [char for char in string]\n",
    "print(result)\n"
   ]
  },
  {
   "cell_type": "code",
   "execution_count": null,
   "id": "003e0046-ed83-4bf5-a18e-7b7eda5b7465",
   "metadata": {},
   "outputs": [],
   "source": [
    "Q8:-  Write a python program to check whether a given number is Palindrome or not using a while loop."
   ]
  },
  {
   "cell_type": "code",
   "execution_count": 8,
   "id": "724459c7-82a6-4e9b-b87e-df1162ec08c0",
   "metadata": {},
   "outputs": [
    {
     "name": "stdin",
     "output_type": "stream",
     "text": [
      "Enter a number:  12\n"
     ]
    },
    {
     "name": "stdout",
     "output_type": "stream",
     "text": [
      "The number is not a palindrome.\n"
     ]
    }
   ],
   "source": [
    "def is_palindrome(num):\n",
    "    original_num = num\n",
    "    reverse_num = 0\n",
    "    while num > 0:\n",
    "        last_digit = num % 10\n",
    "        reverse_num = (reverse_num * 10) + last_digit\n",
    "        num = num // 10\n",
    "    return original_num == reverse_num\n",
    "\n",
    "num = int(input(\"Enter a number: \"))\n",
    "if is_palindrome(num):\n",
    "    print(\"The number is a palindrome.\")\n",
    "else:\n",
    "    print(\"The number is not a palindrome.\")\n"
   ]
  },
  {
   "cell_type": "code",
   "execution_count": null,
   "id": "a4bb656f-6df5-447f-8623-35f0f6218961",
   "metadata": {},
   "outputs": [],
   "source": [
    "Q9:- Write a code to print odd numbers from 1 to 100 using list comprehension."
   ]
  },
  {
   "cell_type": "code",
   "execution_count": 1,
   "id": "a26b9ed3-2395-426d-8750-bc2de1583238",
   "metadata": {},
   "outputs": [
    {
     "name": "stdout",
     "output_type": "stream",
     "text": [
      "[1, 3, 5, 7, 9, 11, 13, 15, 17, 19, 21, 23, 25, 27, 29, 31, 33, 35, 37, 39, 41, 43, 45, 47, 49, 51, 53, 55, 57, 59, 61, 63, 65, 67, 69, 71, 73, 75, 77, 79, 81, 83, 85, 87, 89, 91, 93, 95, 97, 99]\n"
     ]
    }
   ],
   "source": [
    "odd_numbers = [num for num in range(1, 101) if num % 2 != 0]\n",
    "print(odd_numbers)"
   ]
  },
  {
   "cell_type": "code",
   "execution_count": null,
   "id": "730a44e7-7132-4c2b-b988-d218471f0930",
   "metadata": {},
   "outputs": [],
   "source": []
  }
 ],
 "metadata": {
  "kernelspec": {
   "display_name": "Python 3 (ipykernel)",
   "language": "python",
   "name": "python3"
  },
  "language_info": {
   "codemirror_mode": {
    "name": "ipython",
    "version": 3
   },
   "file_extension": ".py",
   "mimetype": "text/x-python",
   "name": "python",
   "nbconvert_exporter": "python",
   "pygments_lexer": "ipython3",
   "version": "3.10.8"
  }
 },
 "nbformat": 4,
 "nbformat_minor": 5
}
