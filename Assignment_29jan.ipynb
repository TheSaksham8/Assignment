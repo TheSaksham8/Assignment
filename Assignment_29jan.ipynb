{
 "cells": [
  {
   "cell_type": "code",
   "execution_count": null,
   "id": "5767ace5-b5b6-4459-bbac-5233c6fee5ea",
   "metadata": {},
   "outputs": [],
   "source": [
    "Q1 who developed python programming language"
   ]
  },
  {
   "cell_type": "code",
   "execution_count": null,
   "id": "3b5b3860-c7a4-4158-997c-4b931ae47215",
   "metadata": {},
   "outputs": [],
   "source": [
    "ANS:- Python was created by Guido van Rossum, and first released on February 20, 1991."
   ]
  },
  {
   "cell_type": "code",
   "execution_count": null,
   "id": "a893db7f-a446-4ce3-a5ba-ddecffc54325",
   "metadata": {},
   "outputs": [],
   "source": [
    "Q2 which type of programming does python support"
   ]
  },
  {
   "cell_type": "code",
   "execution_count": null,
   "id": "319ee0cd-8d77-476a-b11f-d8ba559d6ee5",
   "metadata": {},
   "outputs": [],
   "source": [
    "ANS:- Python is an interpreted programming language, supporting object-oriented, structured, and functional programming."
   ]
  },
  {
   "cell_type": "code",
   "execution_count": null,
   "id": "a00b1a01-5570-48eb-b951-c60d39cb2bb3",
   "metadata": {},
   "outputs": [],
   "source": [
    "Q3 is python case sensitive when dealing with identifier"
   ]
  },
  {
   "cell_type": "code",
   "execution_count": 2,
   "id": "66b77934-cd9b-4468-90c1-4aa7132b37ee",
   "metadata": {},
   "outputs": [
    {
     "ename": "SyntaxError",
     "evalue": "invalid syntax (2953746365.py, line 1)",
     "output_type": "error",
     "traceback": [
      "\u001b[0;36m  Cell \u001b[0;32mIn[2], line 1\u001b[0;36m\u001b[0m\n\u001b[0;31m    Yes, Python is a case-sensitive language, i.e., it treats uppercase and lowercase characters differently. This applies to identifiers too.\u001b[0m\n\u001b[0m                     ^\u001b[0m\n\u001b[0;31mSyntaxError\u001b[0m\u001b[0;31m:\u001b[0m invalid syntax\n"
     ]
    }
   ],
   "source": [
    "ANS:- Yes, Python is a case-sensitive language, i.e., it treats uppercase and lowercase characters differently. This applies to identifiers too."
   ]
  },
  {
   "cell_type": "code",
   "execution_count": null,
   "id": "baa625a1-de08-49c0-b352-236fa76fef3b",
   "metadata": {},
   "outputs": [],
   "source": [
    "Q4 what is the correct extension of the python file"
   ]
  },
  {
   "cell_type": "code",
   "execution_count": null,
   "id": "8a36119c-b01c-434e-be63-7045f1c5d377",
   "metadata": {},
   "outputs": [],
   "source": [
    "ANS:- The extensions for Python files are - . py, . pyi, ."
   ]
  },
  {
   "cell_type": "code",
   "execution_count": null,
   "id": "27148517-2ce2-4d83-b217-bdd94b3105e5",
   "metadata": {},
   "outputs": [],
   "source": [
    "Q5 Is Python code compiled or interpreted?"
   ]
  },
  {
   "cell_type": "code",
   "execution_count": null,
   "id": "308a1c38-08d6-4223-97ac-ab6b9578dd91",
   "metadata": {},
   "outputs": [],
   "source": [
    "ANS:- Python is both compiled as well as an interpreted language, which means when we run a python code, it is first compiled and then interpreted line by line."
   ]
  },
  {
   "cell_type": "code",
   "execution_count": null,
   "id": "eea9b1b9-eb9b-4297-afa4-ff99fd78c2e8",
   "metadata": {},
   "outputs": [],
   "source": [
    "Q6  Name a few blocks of code used to define in Python language?"
   ]
  },
  {
   "cell_type": "code",
   "execution_count": null,
   "id": "bd0550d1-0d02-48e0-9a8d-1b19a5eb8696",
   "metadata": {},
   "outputs": [],
   "source": [
    "ANS:- A Python program is constructed from code blocks. A block is a piece of Python program text that is executed as a unit.\n",
    "\n",
    "There are a number of block code types used, including:\n",
    "    \n",
    "Reed-Solomon codes.\n",
    "Hamming codes.\n",
    "Expander codes.\n",
    "Golay codes.\n",
    "Hadamard codes.\n",
    "Reed-Muller codes.\n",
    "\n",
    "\n",
    "\n"
   ]
  },
  {
   "cell_type": "code",
   "execution_count": null,
   "id": "8551532c-fb36-4e0c-a9e4-7f8a1a132d32",
   "metadata": {},
   "outputs": [],
   "source": [
    "Q7 State a character used to give single-line comments in Python?"
   ]
  },
  {
   "cell_type": "code",
   "execution_count": null,
   "id": "90468dac-c36f-4489-93f9-f86caaef970d",
   "metadata": {},
   "outputs": [],
   "source": [
    "ANS:- We can write a single-line comment by adding a single # character before any statement or line of code."
   ]
  },
  {
   "cell_type": "code",
   "execution_count": null,
   "id": "d59cd5a4-8ef0-4e7e-8d5f-43a1eea7298a",
   "metadata": {},
   "outputs": [],
   "source": [
    "Q8  Mention functions which can help us to find the version of python that we are currently working on?"
   ]
  },
  {
   "cell_type": "code",
   "execution_count": null,
   "id": "b1273451-8d9e-4ee2-b0a5-1e8737e1b12f",
   "metadata": {},
   "outputs": [],
   "source": [
    " Ans:- The function sys. version can help us to find the version of python that we are currently working on."
   ]
  },
  {
   "cell_type": "code",
   "execution_count": null,
   "id": "7ed52838-e06d-48eb-aeb7-f938362b133b",
   "metadata": {},
   "outputs": [],
   "source": [
    "Q9  Python supports the creation of anonymous functions at runtime, using a construct called --------------"
   ]
  },
  {
   "cell_type": "code",
   "execution_count": null,
   "id": "a9321ee6-9f2f-4e59-a39b-cf8e942ace85",
   "metadata": {},
   "outputs": [],
   "source": [
    "ANS:- Python supports the creation of anonymous functions at runtime, using a construct called __________  Lambda"
   ]
  },
  {
   "cell_type": "code",
   "execution_count": null,
   "id": "aa4a003d-6420-4b98-be44-3b801583431e",
   "metadata": {},
   "outputs": [],
   "source": [
    "Q10 What does pip stand for python?"
   ]
  },
  {
   "cell_type": "code",
   "execution_count": null,
   "id": "382fa49c-8d44-4596-90f6-c51bbb383c2a",
   "metadata": {},
   "outputs": [],
   "source": [
    "ANS:- A pip stands for \"preferred installer program\" in python."
   ]
  },
  {
   "cell_type": "code",
   "execution_count": null,
   "id": "deb60463-1dc0-4a6a-9deb-0c56f050c99f",
   "metadata": {},
   "outputs": [],
   "source": [
    "Q11 Mention a few built-in functions in python?"
   ]
  },
  {
   "cell_type": "code",
   "execution_count": null,
   "id": "0e67dd96-1104-4ddb-a577-fd1fdda24561",
   "metadata": {},
   "outputs": [],
   "source": [
    "Ans:- some Built-in Functions in Python are\n",
    "print( ) function.\n",
    "type( ) function.\n",
    "input( ) function.\n",
    "abs( ) function.\n",
    "pow( ) function.\n",
    "dir( ) function.\n",
    "sorted( ) function.\n",
    "max( ) function."
   ]
  },
  {
   "cell_type": "code",
   "execution_count": null,
   "id": "f5400cfb-a898-4daa-be5d-d3ba7d6b8ece",
   "metadata": {},
   "outputs": [],
   "source": [
    "Q12 What is the maximum possible length of an identifier in Python?"
   ]
  },
  {
   "cell_type": "code",
   "execution_count": null,
   "id": "591a463b-cecb-43f3-b425-52cdf3a3e108",
   "metadata": {},
   "outputs": [],
   "source": [
    "Ans:-  An identifier can have a maximum length of 79 characters in Python."
   ]
  },
  {
   "cell_type": "code",
   "execution_count": null,
   "id": "3a2cd9b3-63a4-4466-94b2-e605a4a94626",
   "metadata": {},
   "outputs": [],
   "source": [
    "Q13 What are the benefits of using Python?"
   ]
  },
  {
   "cell_type": "code",
   "execution_count": null,
   "id": "f89d6c8b-c88f-406a-ba5f-59e8735de0ba",
   "metadata": {},
   "outputs": [],
   "source": [
    "ANS:- Top Reasons to Learn Python\n",
    "Data science.\n",
    "Scientific and mathematical computing.\n",
    "Web development.\n",
    "Finance and trading.\n",
    "System automation and administration.\n",
    "Computer graphics.\n",
    "Basic game development.\n",
    "Security and penetration testing."
   ]
  },
  {
   "cell_type": "code",
   "execution_count": null,
   "id": "0d61bb39-a44e-4e11-9d0c-c6eb900db80f",
   "metadata": {},
   "outputs": [],
   "source": [
    "Q14 How is memory managed in Python"
   ]
  },
  {
   "cell_type": "code",
   "execution_count": null,
   "id": "0abaa471-9b43-42d2-a114-d79b7a572b7c",
   "metadata": {},
   "outputs": [],
   "source": [
    "ANS:- Memory management in Python involves a private heap containing all Python objects and data structures. The management of this private heap is ensured internally by the Python memory manager."
   ]
  },
  {
   "cell_type": "code",
   "execution_count": null,
   "id": "3243e72c-178d-46c2-99ec-111d8727fdfb",
   "metadata": {},
   "outputs": [],
   "source": [
    "Q15  How to install Python on Windows and set path variables?"
   ]
  },
  {
   "cell_type": "code",
   "execution_count": null,
   "id": "c36362c5-e487-444b-8630-c3390225aa3e",
   "metadata": {},
   "outputs": [],
   "source": [
    "ANS:- The first step is to locate the directory in which your target Python executable lives. The path to the directory is what you’ll be adding to the PATH environment variable.\n",
    "\n",
    "To find the Python executable, you’ll need to look for a file called python.exe. The Python executable could be in a directory in C:\\Python\\ or in your AppData\\ folder, for instance. If the executable were in AppData\\, then the path would typically look something like this:\n",
    "    In your case, the <USER> part would be replaced by your currently logged-in user name.\n",
    "\n",
    "Once you’ve found the executable, make sure it works by double-clicking it and verifying that it starts up a Python REPL in a new window.\n",
    "\n",
    "If you’re struggling to find the right executable, you can use Windows Explorer’s search feature. The issue with the built-in search is that it’s painfully slow. To perform a super-fast full system search for any file, a great alternative is Everything:\n",
    "    \n",
    "  Those paths highlighted in yellow, namely those at \\WindowsApps and \\Python310, would be ideal candidates to add to PATH because they look like executables at the root level of an installation. Those highlighted in red wouldn’t be suitable because some are part of a virtual environment—you can see venv in the path—and some are shortcuts or internal Windows installations.\n",
    "\n",
    "You may also encounter Python executables that are installed within the folder for a different program. This is due to the fact that many applications bundle their own version of Python within them. These bundled Python installations would also be unsuitable.\n",
    "\n",
    "Once you’ve located your Python executable, open the Start menu and search for the Edit the system environment variables entry, which opens up a System Properties window. In the Advanced tab, click on the button Environment Variables. There you’ll see User and System variables, which you’ll be able to edit:\n",
    "    \n",
    " In the section entitled User Variables, double-click on the entry that says Path. Another window will pop up showing a list of paths. Click the New button and paste the path to your Python executable there. Once that’s inserted, select your newly added path and click the Move Up button until it’s at the top.\n",
    "\n",
    "That’s it! You may need to reboot your computer for the changes to take effect, but you should now be able to call python from the command line.\n",
    "\n",
    "For setting the PATH environment variable from the command line, check out the section on Configuring Environment Variables in the Windows Python coding setup guide. You can also find instructions in the supplemental materials:   \n",
    "    \n",
    "    \n",
    "    \n",
    "    \n",
    "    "
   ]
  },
  {
   "cell_type": "code",
   "execution_count": null,
   "id": "269dc335-157a-4c54-8a28-b25a39f61555",
   "metadata": {},
   "outputs": [],
   "source": [
    "Q16 Is indentation required in python?"
   ]
  },
  {
   "cell_type": "code",
   "execution_count": null,
   "id": "525ccfb1-f56a-4b77-b1b4-aa017d1e0576",
   "metadata": {},
   "outputs": [],
   "source": [
    "ANS:-  Indentation is mandatory in python to define the blocks of statements. It is preferred to use whitespaces instead of tabs to indent in python. Python uses four spaces as default indentation spaces."
   ]
  }
 ],
 "metadata": {
  "kernelspec": {
   "display_name": "Python 3 (ipykernel)",
   "language": "python",
   "name": "python3"
  },
  "language_info": {
   "codemirror_mode": {
    "name": "ipython",
    "version": 3
   },
   "file_extension": ".py",
   "mimetype": "text/x-python",
   "name": "python",
   "nbconvert_exporter": "python",
   "pygments_lexer": "ipython3",
   "version": "3.10.8"
  }
 },
 "nbformat": 4,
 "nbformat_minor": 5
}
