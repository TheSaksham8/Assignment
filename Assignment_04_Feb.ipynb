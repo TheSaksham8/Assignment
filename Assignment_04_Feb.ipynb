{
 "cells": [
  {
   "cell_type": "code",
   "execution_count": 1,
   "id": "b4af8710-6f08-403f-8225-96fad5a10cfe",
   "metadata": {},
   "outputs": [],
   "source": [
    "#  Q1. Create a python program to sort the given list of tuples based on integer value using a lambda function.\n",
    "# [('Sachin Tendulkar', 34357), ('Ricky Ponting', 27483), ('Jack Kallis', 25534), ('Virat Kohli', 24936)]"
   ]
  },
  {
   "cell_type": "code",
   "execution_count": 2,
   "id": "c246f212-c324-404f-9b87-ed21405f3322",
   "metadata": {},
   "outputs": [
    {
     "name": "stdout",
     "output_type": "stream",
     "text": [
      "('Virat Kohli', 24936)\n",
      "('Jack Kallis', 25534)\n",
      "('Ricky Ponting', 27483)\n",
      "('Sachin Tendulkar', 34357)\n"
     ]
    }
   ],
   "source": [
    "player_score = [('Sachin Tendulkar', 34357), ('Ricky Ponting', 27483), ('Jack Kallis', 25534), ('Virat Kohli', 24936)]\n",
    "sorted_data = sorted(player_score, key = lambda x: x[1])\n",
    "\n",
    "for item in sorted_data:\n",
    "    print(item)"
   ]
  },
  {
   "cell_type": "code",
   "execution_count": 3,
   "id": "da7c5059-3748-4957-8d50-a9c3afda46a1",
   "metadata": {},
   "outputs": [
    {
     "data": {
      "text/plain": [
       "'\\nQ2. Write a Python Program to find the squares of all the numbers in the given list of integers using\\nlambda and map functions.\\n\\n[1, 2, 3, 4, 5, 6, 7, 8, 9, 10]\\n\\n '"
      ]
     },
     "execution_count": 3,
     "metadata": {},
     "output_type": "execute_result"
    }
   ],
   "source": [
    "'''\n",
    "Q2. Write a Python Program to find the squares of all the numbers in the given list of integers using\n",
    "lambda and map functions.\n",
    "\n",
    "[1, 2, 3, 4, 5, 6, 7, 8, 9, 10]\n",
    "\n",
    " ''' "
   ]
  },
  {
   "cell_type": "code",
   "execution_count": 4,
   "id": "daf39fe5-6525-4e71-a42d-d3018414ab2f",
   "metadata": {},
   "outputs": [
    {
     "name": "stdout",
     "output_type": "stream",
     "text": [
      "[1, 4, 9, 16, 25, 36, 49, 64, 81, 100]\n"
     ]
    }
   ],
   "source": [
    "numbers = [1, 2, 3, 4, 5, 6, 7, 8, 9, 10]\n",
    "num_square = map(lambda x: x ** 2, numbers)\n",
    "num_square_list = list(num_square)\n",
    "print(num_square_list)"
   ]
  },
  {
   "cell_type": "code",
   "execution_count": 5,
   "id": "d7d6983d-f18b-4e95-8789-f543cdda02df",
   "metadata": {},
   "outputs": [
    {
     "data": {
      "text/plain": [
       "\"\\nQ3. Write a python program to convert the given list of integers into a tuple of strings. Use map and\\nlambda functions\\n\\n\\nGiven String: [1, 2, 3, 4, 5, 6, 7, 8, 9, 10]\\n\\nExpected output: ('1', '2', '3', '4', '5', '6', '7', '8', '9', '10')\\n\""
      ]
     },
     "execution_count": 5,
     "metadata": {},
     "output_type": "execute_result"
    }
   ],
   "source": [
    "'''\n",
    "Q3. Write a python program to convert the given list of integers into a tuple of strings. Use map and\n",
    "lambda functions\n",
    "\n",
    "\n",
    "Given String: [1, 2, 3, 4, 5, 6, 7, 8, 9, 10]\n",
    "\n",
    "Expected output: ('1', '2', '3', '4', '5', '6', '7', '8', '9', '10')\n",
    "'''"
   ]
  },
  {
   "cell_type": "code",
   "execution_count": 6,
   "id": "b2ece658-9969-45d5-b02d-453715e484a6",
   "metadata": {},
   "outputs": [
    {
     "name": "stdout",
     "output_type": "stream",
     "text": [
      "('1', '2', '3', '4', '5', '6', '7', '8', '9', '10')\n"
     ]
    }
   ],
   "source": [
    "num =  [1, 2, 3, 4, 5, 6, 7, 8, 9, 10]\n",
    "num_string = map(lambda x: str(x), num)\n",
    "tuple_num_string = tuple(num_string)\n",
    "print(tuple_num_string)"
   ]
  },
  {
   "cell_type": "code",
   "execution_count": 7,
   "id": "a28061de-17d4-41fb-a766-24d7acd043ca",
   "metadata": {},
   "outputs": [
    {
     "data": {
      "text/plain": [
       "'\\nQ4.  Write a python program using reduce function to compute the product of a list containing numbers\\nfrom 1 to 25.\\n'"
      ]
     },
     "execution_count": 7,
     "metadata": {},
     "output_type": "execute_result"
    }
   ],
   "source": [
    "'''\n",
    "Q4.  Write a python program using reduce function to compute the product of a list containing numbers\n",
    "from 1 to 25.\n",
    "'''"
   ]
  },
  {
   "cell_type": "code",
   "execution_count": 8,
   "id": "dddccc82-d9a1-4df1-b2cf-f849baeb2766",
   "metadata": {},
   "outputs": [
    {
     "name": "stdout",
     "output_type": "stream",
     "text": [
      "The Product of a List contaning numbers from 1 to 25 is: 15511210043330985984000000\n"
     ]
    }
   ],
   "source": [
    "from functools import reduce\n",
    "numbers = list(range(1, 26))\n",
    "def product(x, y):\n",
    "    return  x * y\n",
    "result = reduce(product, numbers)\n",
    "\n",
    "print(f\"The Product of a List contaning numbers from 1 to 25 is:\", result)\n"
   ]
  },
  {
   "cell_type": "code",
   "execution_count": 9,
   "id": "cfe5dba2-48a0-4f90-87d2-bf890c832ca6",
   "metadata": {},
   "outputs": [
    {
     "data": {
      "text/plain": [
       "'\\nQ5. Write a python program to filter the numbers in a given list that are divisible by 2 and 3 using the\\nfilter function.\\n\\n\\n[2, 3, 6, 9, 27, 60, 90, 120, 55, 46]\\n'"
      ]
     },
     "execution_count": 9,
     "metadata": {},
     "output_type": "execute_result"
    }
   ],
   "source": [
    "'''\n",
    "Q5. Write a python program to filter the numbers in a given list that are divisible by 2 and 3 using the\n",
    "filter function.\n",
    "\n",
    "\n",
    "[2, 3, 6, 9, 27, 60, 90, 120, 55, 46]\n",
    "'''"
   ]
  },
  {
   "cell_type": "code",
   "execution_count": 10,
   "id": "8d30dcbc-5482-4f12-9f60-bab5b74d3eff",
   "metadata": {},
   "outputs": [
    {
     "name": "stdout",
     "output_type": "stream",
     "text": [
      "(6,)\n"
     ]
    }
   ],
   "source": [
    "number = [2, 3, 6, 9, 27, 60, 90, 120, 55, 46]\n",
    "num_string = filter(lambda x: (x % 2 == 0 and x % 3 == 0) , num)\n",
    "tuple_num_string = tuple(num_string)\n",
    "print(tuple_num_string)"
   ]
  },
  {
   "cell_type": "code",
   "execution_count": 11,
   "id": "6bb9c990-692a-4c47-b73d-f0b06dc285be",
   "metadata": {},
   "outputs": [
    {
     "data": {
      "text/plain": [
       "\"\\nQ6. Write a python program to find palindromes in the given list of strings using lambda and filter\\nfunction.\\n\\n\\n['python', 'php', 'aba', 'radar', 'level']\\n\""
      ]
     },
     "execution_count": 11,
     "metadata": {},
     "output_type": "execute_result"
    }
   ],
   "source": [
    "'''\n",
    "Q6. Write a python program to find palindromes in the given list of strings using lambda and filter\n",
    "function.\n",
    "\n",
    "\n",
    "['python', 'php', 'aba', 'radar', 'level']\n",
    "'''"
   ]
  },
  {
   "cell_type": "code",
   "execution_count": 12,
   "id": "493662fb-d78e-44e3-890c-9dee24db4087",
   "metadata": {},
   "outputs": [
    {
     "name": "stdout",
     "output_type": "stream",
     "text": [
      "The list of palidrome string is: ['php', 'aba', 'radar', 'level']\n"
     ]
    }
   ],
   "source": [
    "string_list = ['python', 'php', 'aba', 'radar', 'level']\n",
    "is_palidrome = (lambda x: x == x[::-1])\n",
    "palidrome = list(filter(is_palidrome, string_list))\n",
    "print(f\"The list of palidrome string is:\", palidrome)"
   ]
  },
  {
   "cell_type": "code",
   "execution_count": null,
   "id": "973adf95-1bf9-418e-aa80-75fceedf6649",
   "metadata": {},
   "outputs": [],
   "source": []
  }
 ],
 "metadata": {
  "kernelspec": {
   "display_name": "Python 3 (ipykernel)",
   "language": "python",
   "name": "python3"
  },
  "language_info": {
   "codemirror_mode": {
    "name": "ipython",
    "version": 3
   },
   "file_extension": ".py",
   "mimetype": "text/x-python",
   "name": "python",
   "nbconvert_exporter": "python",
   "pygments_lexer": "ipython3",
   "version": "3.10.8"
  }
 },
 "nbformat": 4,
 "nbformat_minor": 5
}
