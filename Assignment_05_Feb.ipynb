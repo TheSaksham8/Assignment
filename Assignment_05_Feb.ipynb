{
 "cells": [
  {
   "cell_type": "code",
   "execution_count": 1,
   "id": "e032cbaa-2f72-4620-a81b-de4775b0c304",
   "metadata": {},
   "outputs": [],
   "source": [
    "\n",
    "#   Q1. Explain Class and Object with respect to Object-Oriented Programming. Give a suitable example."
   ]
  },
  {
   "cell_type": "code",
   "execution_count": 2,
   "id": "9a79278f-9811-46e5-a8c8-d32a273b7d7a",
   "metadata": {},
   "outputs": [
    {
     "name": "stdout",
     "output_type": "stream",
     "text": [
      "Hello, my name is Saksham Chaturvedi, and I am 20 years old.\n",
      "Hello, my name is Aman Dixit, and I am 25 years old.\n"
     ]
    }
   ],
   "source": [
    "'''  In object-oriented programming (OOP), a class and an object are fundamental concepts that help organize and model code. Let's explore these concepts with a suitable example:\n",
    "\n",
    "Class:\n",
    "\n",
    "A class is a blueprint or template for creating objects.\n",
    "It defines the attributes (data members) and behaviors (methods) that the objects of the class will have.\n",
    "A class provides a way to encapsulate data and functionality into a single unit.\n",
    "Object:\n",
    "\n",
    "An object is an instance of a class, created based on the blueprint provided by the class.\n",
    "It represents a real-world entity or concept and can store data (attributes) and perform actions (methods).\n",
    "Objects allow you to work with specific instances of a class and interact with them.\n",
    "Example:\n",
    "Here's is a simple Python example to illustrate classes and objects. Suppose we want to model a \"Car\" in our program.    '''\n",
    "\n",
    "# Define a Person class\n",
    "class Person:\n",
    "    # Constructor method to initialize person attributes\n",
    "    def __init__(self, first_name, last_name, age):\n",
    "        self.first_name = first_name\n",
    "        self.last_name = last_name\n",
    "        self.age = age\n",
    "\n",
    "    # Method to greet the person\n",
    "    def greet(self):\n",
    "        print(f\"Hello, my name is {self.first_name} {self.last_name}, and I am {self.age} years old.\")\n",
    "\n",
    "# Create instances (objects) of the Person class\n",
    "person1 = Person(\"Saksham\", \"Chaturvedi\", 20)\n",
    "person2 = Person(\"Aman\", \"Dixit\", 25)\n",
    "\n",
    "person1.greet()\n",
    "person2.greet()\n"
   ]
  },
  {
   "cell_type": "code",
   "execution_count": 3,
   "id": "2db6dd0b-cea0-4c1b-8644-8ed3ff1bada7",
   "metadata": {},
   "outputs": [],
   "source": [
    "\n",
    "#  Q2. Name the four pillars of OOPs."
   ]
  },
  {
   "cell_type": "code",
   "execution_count": 4,
   "id": "497b5397-5a4a-4275-8336-04a1d0d9e572",
   "metadata": {},
   "outputs": [
    {
     "data": {
      "text/plain": [
       "'\\nThe four pillars of object-oriented programming (OOP) are:\\n\\n1:-  Encapsulation: Encapsulation is the concept of bundling data (attributes) and methods (functions) that operate on that data into a single unit known as a class. It provides data hiding, where the internal details of a class are hidden from the outside, and only a controlled interface is exposed. Encapsulation helps in maintaining data integrity and preventing unauthorized access.\\n\\n2:_  Inheritance: Inheritance is the mechanism that allows one class (subclass or derived class) to inherit properties and behaviors from another class (superclass or base class). It promotes code reusability and establishes a \"is-a\" relationship between classes. Subclasses can add or override methods and attributes inherited from their superclass.\\n\\n3:-  Polymorphism: Polymorphism means \"many shapes\" and refers to the ability of different objects to respond to the same method or function call in a way that is appropriate for their individual types. It allows objects of different classes to be treated as objects of a common superclass. Polymorphism simplifies code and promotes flexibility and extensibility.\\n\\n4:-  Abstraction: Abstraction is the process of simplifying complex reality by modeling classes based on their essential characteristics while hiding irrelevant details. It involves defining abstract classes and methods that provide a blueprint for derived classes. Abstraction allows you to focus on what an object does rather than how it does it.\\n\\nThese four pillars are fundamental principles in OOP and are used to design and structure software systems in a modular and organized manner. They promote code reusability, maintainability, and scalability.\\n  '"
      ]
     },
     "execution_count": 4,
     "metadata": {},
     "output_type": "execute_result"
    }
   ],
   "source": [
    "'''\n",
    "The four pillars of object-oriented programming (OOP) are:\n",
    "\n",
    "1:-  Encapsulation: Encapsulation is the concept of bundling data (attributes) and methods (functions) that operate on that data into a single unit known as a class. It provides data hiding, where the internal details of a class are hidden from the outside, and only a controlled interface is exposed. Encapsulation helps in maintaining data integrity and preventing unauthorized access.\n",
    "\n",
    "2:_  Inheritance: Inheritance is the mechanism that allows one class (subclass or derived class) to inherit properties and behaviors from another class (superclass or base class). It promotes code reusability and establishes a \"is-a\" relationship between classes. Subclasses can add or override methods and attributes inherited from their superclass.\n",
    "\n",
    "3:-  Polymorphism: Polymorphism means \"many shapes\" and refers to the ability of different objects to respond to the same method or function call in a way that is appropriate for their individual types. It allows objects of different classes to be treated as objects of a common superclass. Polymorphism simplifies code and promotes flexibility and extensibility.\n",
    "\n",
    "4:-  Abstraction: Abstraction is the process of simplifying complex reality by modeling classes based on their essential characteristics while hiding irrelevant details. It involves defining abstract classes and methods that provide a blueprint for derived classes. Abstraction allows you to focus on what an object does rather than how it does it.\n",
    "\n",
    "These four pillars are fundamental principles in OOP and are used to design and structure software systems in a modular and organized manner. They promote code reusability, maintainability, and scalability.\n",
    "  '''"
   ]
  },
  {
   "cell_type": "code",
   "execution_count": 5,
   "id": "7f6dc9ed-aeaf-43bd-8643-fc2bb038313e",
   "metadata": {},
   "outputs": [],
   "source": [
    "\n",
    "#   Q3. Explain why the __init__() function is used. Give a suitable example."
   ]
  },
  {
   "cell_type": "code",
   "execution_count": 6,
   "id": "9d01d972-fd96-4486-b28e-d281a5e272e2",
   "metadata": {},
   "outputs": [
    {
     "name": "stdout",
     "output_type": "stream",
     "text": [
      "Hello, I'm Saksham Chaturvedi, and I am 20 years old.\n",
      "Hello, I'm Deepak Dubey, and I am 25 years old.\n"
     ]
    },
    {
     "data": {
      "text/plain": [
       "'\\nThe __init__() method ensures that every object of the class is properly initialized with the necessary data, \\nallowing you to work with objects that have a consistent and valid state from the moment they are created.\\n'"
      ]
     },
     "execution_count": 6,
     "metadata": {},
     "output_type": "execute_result"
    }
   ],
   "source": [
    "'''\n",
    "The __init__() function, also known as the constructor, it is used in object-oriented programming to initialize the attributes or properties of an objectwhen it is created. \n",
    "It is a special method that gets automatically called when an object of a class is instantiated. \n",
    "The primary purpose of __init__() is to set up the initial state of the object by assigning values to its attributes.\n",
    "\n",
    "Here's an example to illustrate why __init__() is used:   '''\n",
    "\n",
    "class Person:\n",
    "    def __init__(self, first_name, last_name, age):\n",
    "        self.first_name = first_name\n",
    "        self.last_name = last_name\n",
    "        self.age = age\n",
    "\n",
    "    def introduce(self):\n",
    "        print(f\"Hello, I'm {self.first_name} {self.last_name}, and I am {self.age} years old.\")\n",
    "\n",
    "# Create instances (objects) of the Person class\n",
    "person1 = Person(\"Saksham\", \"Chaturvedi\", 20)\n",
    "person2 = Person(\"Deepak\", \"Dubey\", 25)\n",
    "\n",
    "# Accessing object attributes and methods\n",
    "person1.introduce()\n",
    "person2.introduce()\n",
    "\n",
    "'''\n",
    "The __init__() method ensures that every object of the class is properly initialized with the necessary data, \n",
    "allowing you to work with objects that have a consistent and valid state from the moment they are created.\n",
    "'''"
   ]
  },
  {
   "cell_type": "code",
   "execution_count": 7,
   "id": "aecfb11e-3926-4dd2-9ec3-f68cdf61485a",
   "metadata": {},
   "outputs": [],
   "source": [
    "\n",
    "#   Q4. Why self is used in OOPs?"
   ]
  },
  {
   "cell_type": "code",
   "execution_count": 8,
   "id": "2961b53f-975c-441a-af8e-d9d7c0a7d978",
   "metadata": {},
   "outputs": [
    {
     "data": {
      "text/plain": [
       "\"\\nIn object-oriented programming (OOP), self is used to refer to the instance of a class (i.e., the object) within the class itself. \\nIt is a convention used in many OOP languages, including Python, to represent the current instance of a class\\nand allows you to access and modify the object's attributes and methods.\\n\\nHere's why self is used in OOP:\\n\\nAccessing Attributes: self allows you to access the attributes (variables) of an object from within the class's methods. \\nIt ensures that you're working with the specific instance's data, not some global or class-level data.\\n\\nModifying Attributes: You can use self to modify the attributes of an object. When you assign a value to self.attribute_name, you are updating the attribute for that specific instance.\\n\\nCalling Methods: self is used to call other methods within the class. This allows methods to interact with each other and with the object's data.\\n\\nCreating and Managing Multiple Instances: In OOP, you can create multiple instances of a class, and each instance has its own set of attributes and data. \\nself ensures that you're working with the correct instance when accessing or modifying its data.\\n    \""
      ]
     },
     "execution_count": 8,
     "metadata": {},
     "output_type": "execute_result"
    }
   ],
   "source": [
    "'''\n",
    "In object-oriented programming (OOP), self is used to refer to the instance of a class (i.e., the object) within the class itself. \n",
    "It is a convention used in many OOP languages, including Python, to represent the current instance of a class\n",
    "and allows you to access and modify the object's attributes and methods.\n",
    "\n",
    "Here's why self is used in OOP:\n",
    "\n",
    "Accessing Attributes: self allows you to access the attributes (variables) of an object from within the class's methods. \n",
    "It ensures that you're working with the specific instance's data, not some global or class-level data.\n",
    "\n",
    "Modifying Attributes: You can use self to modify the attributes of an object. When you assign a value to self.attribute_name, you are updating the attribute for that specific instance.\n",
    "\n",
    "Calling Methods: self is used to call other methods within the class. This allows methods to interact with each other and with the object's data.\n",
    "\n",
    "Creating and Managing Multiple Instances: In OOP, you can create multiple instances of a class, and each instance has its own set of attributes and data. \n",
    "self ensures that you're working with the correct instance when accessing or modifying its data.\n",
    "    '''"
   ]
  },
  {
   "cell_type": "code",
   "execution_count": 9,
   "id": "fc39f3e7-f4c7-49c1-93e6-8e2978c79cda",
   "metadata": {},
   "outputs": [],
   "source": [
    "\n",
    "#   Q5. What is inheritance? Give an example for each type of inheritance."
   ]
  },
  {
   "cell_type": "code",
   "execution_count": 10,
   "id": "876faa19-0368-4572-8f99-d563623c5c00",
   "metadata": {},
   "outputs": [
    {
     "data": {
      "text/plain": [
       "'\\nInheritance is one of the four fundamental pillars of object-oriented programming (OOP). \\nIt is a mechanism that allows a new class (subclass or derived class) to inherit properties and behaviors from an existing class (superclass or base class). \\nInheritance promotes code reusability and establishes a hierarchical relationship between classes.\\nInheritance allows classes to inherit attributes and methods from existing classes, enabling code reuse and facilitating the modeling of real-world relationships and hierarchies. \\nThe choice of inheritance type depends on the specific requirements and design of the software system.\\n\\nThere are several types of inheritance:\\n1: Single Inheritance\\n2: Multiple Inheritance\\n3: Multilevel Inheritance\\n4: Hierarchical Inheritance\\n5: Hybrid Inheritance\\n '"
      ]
     },
     "execution_count": 10,
     "metadata": {},
     "output_type": "execute_result"
    }
   ],
   "source": [
    "'''\n",
    "Inheritance is one of the four fundamental pillars of object-oriented programming (OOP). \n",
    "It is a mechanism that allows a new class (subclass or derived class) to inherit properties and behaviors from an existing class (superclass or base class). \n",
    "Inheritance promotes code reusability and establishes a hierarchical relationship between classes.\n",
    "Inheritance allows classes to inherit attributes and methods from existing classes, enabling code reuse and facilitating the modeling of real-world relationships and hierarchies. \n",
    "The choice of inheritance type depends on the specific requirements and design of the software system.\n",
    "\n",
    "There are several types of inheritance:\n",
    "1: Single Inheritance\n",
    "2: Multiple Inheritance\n",
    "3: Multilevel Inheritance\n",
    "4: Hierarchical Inheritance\n",
    "5: Hybrid Inheritance\n",
    " '''"
   ]
  },
  {
   "cell_type": "code",
   "execution_count": 11,
   "id": "c3ffff28-baf3-4930-a4c8-331ad3a30fd6",
   "metadata": {},
   "outputs": [
    {
     "name": "stdout",
     "output_type": "stream",
     "text": [
      "Dog barks\n"
     ]
    }
   ],
   "source": [
    "# 1: Single Inheritance: In single inheritance, a subclass inherits from a single superclass. It represents a one-to-one relationship between classes.\n",
    "\n",
    "#  Example:\n",
    "\n",
    "class Animal:\n",
    "    def speak(self):\n",
    "        print(\"Animal speaks\")\n",
    "\n",
    "class Dog(Animal):\n",
    "    def speak(self):\n",
    "        print(\"Dog barks\")\n",
    "\n",
    "dog = Dog()\n",
    "dog.speak()  # Output: \"Dog barks\"\n",
    "\n"
   ]
  },
  {
   "cell_type": "code",
   "execution_count": 12,
   "id": "6b93d21f-cdc9-4919-a741-9550f298dc9d",
   "metadata": {},
   "outputs": [
    {
     "name": "stdout",
     "output_type": "stream",
     "text": [
      "Method A from class A\n",
      "Method B from class B\n"
     ]
    }
   ],
   "source": [
    "# 2: Multiple Inheritance: In multiple inheritance, a subclass inherits from multiple superclasses. It allows a class to inherit properties and behaviors from more than one class.\n",
    "\n",
    "# Example:\n",
    "\n",
    "class A:\n",
    "    def method_A(self):\n",
    "        print(\"Method A from class A\")\n",
    "\n",
    "class B:\n",
    "    def method_B(self):\n",
    "        print(\"Method B from class B\")\n",
    "\n",
    "class C(A, B):\n",
    "    def method_C(self):\n",
    "        print(\"Method C from class C\")\n",
    "\n",
    "obj = C()\n",
    "obj.method_A()  # Output: \"Method A from class A\"\n",
    "obj.method_B()  # Output: \"Method B from class B\"\n"
   ]
  },
  {
   "cell_type": "code",
   "execution_count": 13,
   "id": "2cf627b5-aecf-4396-8b0a-bbc70d2b46f1",
   "metadata": {},
   "outputs": [
    {
     "name": "stdout",
     "output_type": "stream",
     "text": [
      "Method from Grandparent class\n",
      "Method from Parent class\n"
     ]
    }
   ],
   "source": [
    "# 3: Multilevel Inheritance: In multilevel inheritance, a subclass is derived from another subclass, forming a chain of inheritance.\n",
    "\n",
    "# Example:\n",
    "\n",
    "class Grandparent:\n",
    "    def method_grandparent(self):\n",
    "        print(\"Method from Grandparent class\")\n",
    "\n",
    "class Parent(Grandparent):\n",
    "    def method_parent(self):\n",
    "        print(\"Method from Parent class\")\n",
    "\n",
    "class Child(Parent):\n",
    "    def method_child(self):\n",
    "        print(\"Method from Child class\")\n",
    "\n",
    "child = Child()\n",
    "child.method_grandparent()  # Output: \"Method from Grandparent class\"\n",
    "child.method_parent()       # Output: \"Method from Parent class\"\n"
   ]
  },
  {
   "cell_type": "code",
   "execution_count": 14,
   "id": "cc40f764-4951-4db8-9ba4-f066eb885fea",
   "metadata": {},
   "outputs": [],
   "source": [
    "# 4: Hierarchical Inheritance: In hierarchical inheritance, multiple subclasses inherit from a single superclass.\n",
    "\n",
    "# Example:\n",
    "\n",
    "class Shape:\n",
    "    def area(self):\n",
    "        pass\n",
    "\n",
    "class Circle(Shape):\n",
    "    def area(self, radius):\n",
    "        return 3.14 * radius * radius\n",
    "\n",
    "class Rectangle(Shape):\n",
    "    def area(self, length, width):\n",
    "        return length * width\n",
    "\n",
    "circle = Circle()\n",
    "rectangle = Rectangle()\n"
   ]
  },
  {
   "cell_type": "code",
   "execution_count": 15,
   "id": "e9cf1061-633c-48d2-a54a-7f14750cbc89",
   "metadata": {},
   "outputs": [
    {
     "name": "stdout",
     "output_type": "stream",
     "text": [
      "Method A from class A\n",
      "Method B from class B\n"
     ]
    }
   ],
   "source": [
    "# 5: Hybrid Inheritance: Hybrid inheritance is a combination of different types of inheritance. It can involve multiple inheritance along with single, multilevel, or hierarchical inheritance.\n",
    "\n",
    "# Example:\n",
    "\n",
    "class A:\n",
    "    def method_A(self):\n",
    "        print(\"Method A from class A\")\n",
    "\n",
    "class B:\n",
    "    def method_B(self):\n",
    "        print(\"Method B from class B\")\n",
    "\n",
    "class C(A):\n",
    "    def method_C(self):\n",
    "        print(\"Method C from class C\")\n",
    "\n",
    "class D(C, B):\n",
    "    def method_D(self):\n",
    "        print(\"Method D from class D\")\n",
    "\n",
    "obj = D()\n",
    "obj.method_A()  # Output: \"Method A from class A\"\n",
    "obj.method_B()  # Output: \"Method B from class B\"\n"
   ]
  }
 ],
 "metadata": {
  "kernelspec": {
   "display_name": "Python 3 (ipykernel)",
   "language": "python",
   "name": "python3"
  },
  "language_info": {
   "codemirror_mode": {
    "name": "ipython",
    "version": 3
   },
   "file_extension": ".py",
   "mimetype": "text/x-python",
   "name": "python",
   "nbconvert_exporter": "python",
   "pygments_lexer": "ipython3",
   "version": "3.10.8"
  }
 },
 "nbformat": 4,
 "nbformat_minor": 5
}
