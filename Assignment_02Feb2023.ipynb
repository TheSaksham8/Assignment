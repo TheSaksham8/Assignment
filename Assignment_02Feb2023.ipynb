{
 "cells": [
  {
   "cell_type": "code",
   "execution_count": null,
   "id": "5d5c7573-a148-4c04-9da8-0cff7e30810c",
   "metadata": {},
   "outputs": [],
   "source": [
    "Q1:- Explain with on example each when to use a for loop and a while loop."
   ]
  },
  {
   "cell_type": "code",
   "execution_count": null,
   "id": "24c361b0-8d0e-4b7c-ae6b-e447e1eac005",
   "metadata": {},
   "outputs": [],
   "source": [
    "In Python, both for loops and while loops are used to iterate over a sequence of elements. The choice between a for loop and a while loop depends on the specific requirements of the problem that you are trying to solve.\n",
    "\n",
    "For Loops:\n",
    "For loops are used when you know the number of iterations beforehand. A for loop iterates over a sequence of elements, such as a list or a range of numbers, and executes the same block of code for each element in the sequence.\n",
    "\n",
    "Here's an example of using a for loop to print the numbers from 1 to 10:\n",
    "for i in range(1, 11):\n",
    "    print(i)\n",
    "In this example, the for loop iterates over the range of numbers from 1 to 10. The range function generates a sequence of numbers from the start value to the end value (exclusive),\n",
    "and the for loop iterates over each number in the sequence. The current number is stored in the variable i, and the block of code inside the for loop is executed for each value of i.\n",
    "\n",
    "While Loops:\n",
    "While loops are used when you do not know the number of iterations beforehand. A while loop repeatedly executes a block of code as long as a certain condition is met. The loop stops when the condition becomes false.\n",
    "\n",
    "Here's an example of using a while loop to print the numbers from 1 to 10:\n",
    "i = 1\n",
    "while i <= 10:\n",
    "    print(i)\n",
    "    i += 1\n",
    "    \n",
    "In this example, the while loop checks the condition i <= 10 at the start of each iteration. \n",
    "If the condition is true, the block of code inside the while loop is executed and the value of i is incremented by 1. \n",
    "The loop continues to execute until the condition i <= 10 becomes false."
   ]
  },
  {
   "cell_type": "code",
   "execution_count": null,
   "id": "9261d8e4-26c0-4655-98fe-82e4ab517199",
   "metadata": {},
   "outputs": [],
   "source": [
    "Q2:- Write a python program to print the sum and product of the first 10 natural numbers using for and while loop."
   ]
  },
  {
   "cell_type": "code",
   "execution_count": null,
   "id": "9a0bae8d-ea71-46a0-b43a-5f2463bc9f85",
   "metadata": {},
   "outputs": [],
   "source": [
    "# Using for loop\n",
    "sum = 0\n",
    "product = 1\n",
    "\n",
    "for i in range(1, 11):\n",
    "    sum += i\n",
    "    product *= i\n",
    "\n",
    "print(\"Sum (using for loop):\", sum)\n",
    "print(\"Product (using for loop):\", product)\n",
    "\n",
    "# Using while loop\n",
    "sum = 0\n",
    "product = 1\n",
    "i = 1\n",
    "\n",
    "while i <= 10:\n",
    "    sum += i\n",
    "    product *= i\n",
    "    i += 1\n",
    "\n",
    "print(\"Sum (using while loop):\", sum)\n",
    "print(\"Product (using while loop):\", product)\n"
   ]
  },
  {
   "cell_type": "code",
   "execution_count": null,
   "id": "369efa0e-e77f-41ee-b3d6-393a1edc1612",
   "metadata": {},
   "outputs": [],
   "source": [
    "Q3:- Create a python program to compute the electricity bill for a household.\n",
    "The per-unit charges in rupees ore as follows:\n",
    "For the first 100 units, the user will be charged Rs. 4.5 per unit, for the next 100 units, the user will be charged Rs. 6 per unit, and for the next 100 units, the user will be charged Rs. 10 per unit, After 300 units and above the user will be charged Rs. 20 per unit.\n",
    "You ore required to take the units of electricity consumed in a month from the user as input.\n",
    "Your program must pass this test case: when the unit of electricity consumed by the user in a month is 310, the total electricity bill should be 2250.\n"
   ]
  },
  {
   "cell_type": "code",
   "execution_count": null,
   "id": "933daf5c-a98e-4ed6-9b3c-22fe4bca9e8b",
   "metadata": {},
   "outputs": [],
   "source": [
    "units = int(input(\"Enter the number of units consumed: \"))\n",
    "\n",
    "if units <= 100:\n",
    "    bill = units * 4.5\n",
    "elif units <= 200:\n",
    "    bill = (100 * 4.5) + ((units - 100) * 6)\n",
    "elif units <= 300:\n",
    "    bill = (100 * 4.5) + (100 * 6) + ((units - 200) * 10)\n",
    "else:\n",
    "    bill = (100 * 4.5) + (100 * 6) + (100 * 10) + ((units - 300) * 20)\n",
    "\n",
    "print(\"The total electricity bill is Rs.\", bill)\n"
   ]
  },
  {
   "cell_type": "code",
   "execution_count": null,
   "id": "72c04abc-2d20-43f6-8369-d1080de4e6ec",
   "metadata": {},
   "outputs": [],
   "source": [
    "Q4:- Create a list of numbers from 1 to l0O. Use for loop and while loop to calculate the cube of each number\n",
    "and if the cube of that number is divisible by 4 or 5 then append that number in a list and print that list."
   ]
  },
  {
   "cell_type": "code",
   "execution_count": null,
   "id": "b3b27c92-c871-4cc6-b105-eeafee06ce1b",
   "metadata": {},
   "outputs": [],
   "source": [
    "numbers = list(range(1, 101))\n",
    "cubes = []\n",
    "\n",
    "# Using for loop\n",
    "for number in numbers:\n",
    "    cube = number ** 3\n",
    "    if (cube % 4 == 0) or (cube % 5 == 0):\n",
    "        cubes.append(cube)\n",
    "\n",
    "print(\"Cubes (using for loop):\", cubes)\n",
    "\n",
    "# Using while loop\n",
    "i = 0\n",
    "while i < len(numbers):\n",
    "    cube = numbers[i] ** 3\n",
    "    if (cube % 4 == 0) or (cube % 5 == 0):\n",
    "        cubes.append(cube)\n",
    "    i += 1\n",
    "\n",
    "print(\"Cubes (using while loop):\", cubes)"
   ]
  },
  {
   "cell_type": "code",
   "execution_count": null,
   "id": "13ce0932-dd58-4fc2-a30d-c21d9d362d75",
   "metadata": {},
   "outputs": [],
   "source": [
    "Q5:- Write a program to filter count vowels in the below-given string. string = \"I wont to become a data scientist\""
   ]
  },
  {
   "cell_type": "code",
   "execution_count": null,
   "id": "1ce44033-bbe4-413d-ad92-4ba77a9dc32a",
   "metadata": {},
   "outputs": [],
   "source": [
    "string = \"I want to become a data scientist\"\n",
    "vowels = \"aeiouAEIOU\"\n",
    "vowel_count = 0\n",
    "\n",
    "for char in string:\n",
    "    if char in vowels:\n",
    "        vowel_count += 1\n",
    "\n",
    "print(\"Number of vowels in the string:\", vowel_count)"
   ]
  }
 ],
 "metadata": {
  "kernelspec": {
   "display_name": "Python 3 (ipykernel)",
   "language": "python",
   "name": "python3"
  },
  "language_info": {
   "codemirror_mode": {
    "name": "ipython",
    "version": 3
   },
   "file_extension": ".py",
   "mimetype": "text/x-python",
   "name": "python",
   "nbconvert_exporter": "python",
   "pygments_lexer": "ipython3",
   "version": "3.10.8"
  }
 },
 "nbformat": 4,
 "nbformat_minor": 5
}
