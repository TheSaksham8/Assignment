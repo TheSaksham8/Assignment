{
 "cells": [
  {
   "cell_type": "code",
   "execution_count": null,
   "id": "df82c225-5b9a-41f4-ad38-a76f633c34e7",
   "metadata": {},
   "outputs": [],
   "source": [
    "Q1 Write a program to accept percentage from the user and display the grade according to the\n",
    "following criteria: > 90 Grade A, >80 and <=90 Grade B, >=60 and <=80 Grade C, below 60 Grade D."
   ]
  },
  {
   "cell_type": "code",
   "execution_count": 16,
   "id": "30f12878-6b79-4312-96d4-d18752e53ab6",
   "metadata": {},
   "outputs": [
    {
     "name": "stdin",
     "output_type": "stream",
     "text": [
      "enter your marks 91\n"
     ]
    },
    {
     "name": "stdout",
     "output_type": "stream",
     "text": [
      "A\n"
     ]
    }
   ],
   "source": [
    "marks = int(input(\"enter your marks\"))\n",
    "if marks > 90:\n",
    "    print(\"A\")\n",
    "elif (marks > 80 and marks <= 90):\n",
    "    print(\"B\")\n",
    "elif(marks >= 60 and marks <= 80):\n",
    "    print(\"C\")\n",
    "else:\n",
    "    print(\"D\")"
   ]
  },
  {
   "cell_type": "code",
   "execution_count": null,
   "id": "c7ec0a17-01e8-4e37-aab9-ae9f9e73025b",
   "metadata": {},
   "outputs": [],
   "source": [
    "Q2 Write a program to accept the cost price of a bike and display the road tax to be paid\n",
    "according to the following criteria:\n",
    "   Tax 15% 10% 5% Cost Price(in Rs) >100000, >50000 and <= 100000, 50000"
   ]
  },
  {
   "cell_type": "code",
   "execution_count": 26,
   "id": "b23cb6f3-89ca-4eea-83b9-2c258861db76",
   "metadata": {},
   "outputs": [
    {
     "name": "stdin",
     "output_type": "stream",
     "text": [
      "Enter the cost price of a bike 100001\n"
     ]
    },
    {
     "name": "stdout",
     "output_type": "stream",
     "text": [
      "The Road tax to be paid is 15%\n"
     ]
    }
   ],
   "source": [
    "price = int(input(\"Enter the cost price of a bike\"))\n",
    "if(price > 100000):\n",
    "    print(\"The Road tax to be paid is 15%\")\n",
    "elif(price > 50000 and price <= 100000):\n",
    "    print(\"The Road tax to be paid is 10%\")\n",
    "else:\n",
    "    print(\"The Road tax to be paid is 5%\")"
   ]
  },
  {
   "cell_type": "code",
   "execution_count": null,
   "id": "50b02f56-66d4-45a3-9635-9009007fd7ab",
   "metadata": {},
   "outputs": [],
   "source": [
    "Q3 Accept any city from the user and display monuments of that city.\n",
    "City:- Delhi Agra Jaipur.\n",
    "Monument:- Red Fort Taj Mahal Jal Maha"
   ]
  },
  {
   "cell_type": "code",
   "execution_count": 12,
   "id": "6893a6ee-4be5-4019-b5ef-ef482d6c1e2b",
   "metadata": {},
   "outputs": [
    {
     "name": "stdin",
     "output_type": "stream",
     "text": [
      "Enter the name of a city:  agra\n"
     ]
    },
    {
     "name": "stdout",
     "output_type": "stream",
     "text": [
      "The famous monument of agra is: Taj Mahal\n"
     ]
    }
   ],
   "source": [
    "def famous_monument(city):\n",
    "    monuments = {\n",
    "        \"delhi\": \"Red Fort\",\n",
    "        \"agra\": \"Taj Mahal\",\n",
    "        \"jaipur\": \"Jal Mahal\"\n",
    "    }\n",
    "    monument = monuments.get(city, \"Monument not found\")\n",
    "    print(\"The famous monument of\", city, \"is:\", monument)\n",
    "\n",
    "city = input(\"Enter the name of a city: \")\n",
    "famous_monument(city)"
   ]
  },
  {
   "cell_type": "code",
   "execution_count": null,
   "id": "f82f6ddf-bbe4-4fdd-8e16-28effeda1b70",
   "metadata": {},
   "outputs": [],
   "source": [
    "Q4 Check how many times a given number can be divided by 3 before it is less than or equal to 10."
   ]
  },
  {
   "cell_type": "code",
   "execution_count": 4,
   "id": "7da6c8c2-814f-4749-b029-463fd7515e3a",
   "metadata": {},
   "outputs": [
    {
     "name": "stdin",
     "output_type": "stream",
     "text": [
      "Enter a number:  100\n"
     ]
    },
    {
     "name": "stdout",
     "output_type": "stream",
     "text": [
      "The number can be divided by 3 3 times before it is less than or equal to 10.\n"
     ]
    }
   ],
   "source": [
    "def count_divisions_by_3(num):\n",
    "    count = 0\n",
    "    while num > 10:\n",
    "        num = num / 3\n",
    "        count += 1\n",
    "    print(\"The number can be divided by 3\", count, \"times before it is less than or equal to 10.\")\n",
    "\n",
    "number = int(input(\"Enter a number: \"))\n",
    "count_divisions_by_3(number)\n"
   ]
  },
  {
   "cell_type": "code",
   "execution_count": null,
   "id": "5c62583e-9581-48f8-afe0-43fcbf8bee0f",
   "metadata": {},
   "outputs": [],
   "source": [
    "Q5 Why and When to Use while Loop in Python give a detailed description with example."
   ]
  },
  {
   "cell_type": "code",
   "execution_count": null,
   "id": "7fcddb77-54cb-427c-9639-2ba671877d4d",
   "metadata": {},
   "outputs": [],
   "source": [
    " Python while loop is used to run a block code until a certain condition is met.\n",
    "    \n",
    "  Here,\n",
    "1. A while loop evaluates the condition\n",
    "2. If the condition evaluates to True, the code inside the while loop is executed.\n",
    "3. condition is evaluated again.\n",
    "4. This process continues until the condition is False.\n",
    "5. When condition evaluates to False, the loop stops.  \n",
    "\n",
    " While loop falls under the category of indefinite iteration. Indefinite iteration means that the number of times the loop is executed isn’t specified explicitly in advance. \n",
    "\n",
    "Statements represent all the statements indented by the same number of character spaces after a programming construct are considered to be part of a single block of code.\n",
    "Python uses indentation as its method of grouping statements. When a while loop is executed, expr is first evaluated in a Boolean context and if it is true, the loop body is executed.\n",
    "Then the expr is checked again, if it is still true then the body is executed again and this continues until the expression becomes false. \n",
    "\n",
    "Example:-  # Prints all letters except 'e' and 's'\n",
    "i = 0\n",
    "a = 'sakshamchaturvedi'\n",
    "\n",
    "while i < len(a):\n",
    "\tif a[i] == 'e' or a[i] == 's':\n",
    "\t\ti += 1\n",
    "\t\tcontinue\n",
    "\t\t\n",
    "\tprint('Current Letter :', a[i])\n",
    "\ti += 1\n"
   ]
  },
  {
   "cell_type": "code",
   "execution_count": null,
   "id": "6a5c838d-45fd-4147-8008-acba3b4a022d",
   "metadata": {},
   "outputs": [],
   "source": [
    "Q6 Use nested while loop to print 3 different pattern."
   ]
  },
  {
   "cell_type": "code",
   "execution_count": 13,
   "id": "f0cd2034-c50a-4a2a-ab26-99553ba43014",
   "metadata": {},
   "outputs": [
    {
     "name": "stdout",
     "output_type": "stream",
     "text": [
      "Pattern 1:\n",
      "*\n",
      "**\n",
      "***\n",
      "****\n",
      "*****\n",
      "\n",
      "Pattern 2:\n",
      "*****\n",
      "****\n",
      "***\n",
      "**\n",
      "*\n",
      "\n",
      "Pattern 3:\n",
      "     *\n",
      "    **\n",
      "   ***\n",
      "  ****\n",
      " *****\n"
     ]
    }
   ],
   "source": [
    "def print_patterns():\n",
    "    print(\"Pattern 1:\")\n",
    "    i = 1\n",
    "    while i <= 5:\n",
    "        j = 1\n",
    "        while j <= i:\n",
    "            print(\"*\", end=\"\")\n",
    "            j += 1\n",
    "        print()\n",
    "        i += 1\n",
    "\n",
    "    print(\"\\nPattern 2:\")\n",
    "    i = 5\n",
    "    while i >= 1:\n",
    "        j = 1\n",
    "        while j <= i:\n",
    "            print(\"*\", end=\"\")\n",
    "            j += 1\n",
    "        print()\n",
    "        i -= 1\n",
    "\n",
    "    print(\"\\nPattern 3:\")\n",
    "    i = 1\n",
    "    while i <= 5:\n",
    "        j = 5\n",
    "        while j >= i:\n",
    "            print(\" \", end=\"\")\n",
    "            j -= 1\n",
    "        k = 1\n",
    "        while k <= i:\n",
    "            print(\"*\", end=\"\")\n",
    "            k += 1\n",
    "        print()\n",
    "        i += 1\n",
    "\n",
    "print_patterns()\n"
   ]
  },
  {
   "cell_type": "code",
   "execution_count": null,
   "id": "e1dd7ac5-8701-4af1-943d-725e1d030551",
   "metadata": {},
   "outputs": [],
   "source": [
    "Q7 Reverse a while loop to display numbers from 10 to 1."
   ]
  },
  {
   "cell_type": "code",
   "execution_count": 14,
   "id": "ef250080-5a68-4288-8797-9894c57b18c9",
   "metadata": {},
   "outputs": [
    {
     "name": "stdout",
     "output_type": "stream",
     "text": [
      "10\n",
      "9\n",
      "8\n",
      "7\n",
      "6\n",
      "5\n",
      "4\n",
      "3\n",
      "2\n",
      "1\n"
     ]
    }
   ],
   "source": [
    "def reverse_while_loop():\n",
    "    i = 10\n",
    "    while i >= 1:\n",
    "        print(i)\n",
    "        i -= 1\n",
    "\n",
    "reverse_while_loop()\n"
   ]
  },
  {
   "cell_type": "code",
   "execution_count": 17,
   "id": "54cc970a-17dc-486a-876b-a7a1f3b75b3c",
   "metadata": {},
   "outputs": [
    {
     "name": "stdout",
     "output_type": "stream",
     "text": [
      "Current Letter : a\n",
      "Current Letter : k\n",
      "Current Letter : h\n",
      "Current Letter : a\n",
      "Current Letter : m\n",
      "Current Letter : c\n",
      "Current Letter : h\n",
      "Current Letter : a\n",
      "Current Letter : t\n",
      "Current Letter : u\n",
      "Current Letter : r\n",
      "Current Letter : v\n",
      "Current Letter : d\n",
      "Current Letter : i\n"
     ]
    }
   ],
   "source": [
    "i = 0\n",
    "a = 'sakshamchaturvedi'\n",
    "\n",
    "while i < len(a):\n",
    "\tif a[i] == 'e' or a[i] == 's':\n",
    "\t\ti += 1\n",
    "\t\tcontinue\n",
    "\t\t\n",
    "\tprint('Current Letter :', a[i])\n",
    "\ti += 1"
   ]
  },
  {
   "cell_type": "code",
   "execution_count": null,
   "id": "085a6321-3c6b-40c0-a2fc-0c17edcf2579",
   "metadata": {},
   "outputs": [],
   "source": []
  }
 ],
 "metadata": {
  "kernelspec": {
   "display_name": "Python 3 (ipykernel)",
   "language": "python",
   "name": "python3"
  },
  "language_info": {
   "codemirror_mode": {
    "name": "ipython",
    "version": 3
   },
   "file_extension": ".py",
   "mimetype": "text/x-python",
   "name": "python",
   "nbconvert_exporter": "python",
   "pygments_lexer": "ipython3",
   "version": "3.10.8"
  }
 },
 "nbformat": 4,
 "nbformat_minor": 5
}
